{
 "cells": [
  {
   "cell_type": "code",
   "execution_count": 1,
   "id": "bb99af31",
   "metadata": {
    "_cell_guid": "b1076dfc-b9ad-4769-8c92-a6c4dae69d19",
    "_uuid": "8f2839f25d086af736a60e9eeb907d3b93b6e0e5",
    "execution": {
     "iopub.execute_input": "2021-12-04T09:23:09.033776Z",
     "iopub.status.busy": "2021-12-04T09:23:09.029481Z",
     "iopub.status.idle": "2021-12-04T09:23:20.378167Z",
     "shell.execute_reply": "2021-12-04T09:23:20.379509Z",
     "shell.execute_reply.started": "2021-12-04T09:02:19.815751Z"
    },
    "papermill": {
     "duration": 11.397495,
     "end_time": "2021-12-04T09:23:20.379890",
     "exception": false,
     "start_time": "2021-12-04T09:23:08.982395",
     "status": "completed"
    },
    "tags": []
   },
   "outputs": [
    {
     "name": "stdout",
     "output_type": "stream",
     "text": [
      "Collecting split-folders\n",
      "  Downloading split_folders-0.5.1-py3-none-any.whl (8.4 kB)\n",
      "Installing collected packages: split-folders\n",
      "Successfully installed split-folders-0.5.1\n",
      "Note: you may need to restart the kernel to use updated packages.\n"
     ]
    },
    {
     "name": "stderr",
     "output_type": "stream",
     "text": [
      "WARNING: You are using pip version 21.3.1; however, version 22.0.4 is available.\n",
      "You should consider upgrading via the 'C:\\Users\\musta\\AppData\\Local\\Programs\\Python\\Python39\\python.exe -m pip install --upgrade pip' command.\n"
     ]
    }
   ],
   "source": [
    "%pip install split-folders"
   ]
  },
  {
   "cell_type": "code",
   "execution_count": 1,
   "id": "6967b1d2",
   "metadata": {
    "execution": {
     "iopub.execute_input": "2021-12-04T09:23:20.422584Z",
     "iopub.status.busy": "2021-12-04T09:23:20.421577Z",
     "iopub.status.idle": "2021-12-04T09:23:27.360348Z",
     "shell.execute_reply": "2021-12-04T09:23:27.360983Z",
     "shell.execute_reply.started": "2021-12-04T09:05:24.594629Z"
    },
    "papermill": {
     "duration": 6.963341,
     "end_time": "2021-12-04T09:23:27.361192",
     "exception": false,
     "start_time": "2021-12-04T09:23:20.397851",
     "status": "completed"
    },
    "tags": []
   },
   "outputs": [],
   "source": [
    "from keras.preprocessing.image import ImageDataGenerator , load_img , img_to_array\n",
    "from keras.models import Sequential\n",
    "from keras.layers import Conv2D, Flatten, MaxPool2D, Dense\n",
    "import matplotlib.pyplot as plt\n",
    "\n",
    "import numpy as np\n",
    "from skimage import transform\n",
    "import splitfolders\n",
    "from sklearn.metrics import confusion_matrix\n",
    "from sklearn.metrics import precision_recall_fscore_support\n",
    "import seaborn as sns\n",
    "\n",
    "import splitfolders"
   ]
  },
  {
   "cell_type": "code",
   "execution_count": 3,
   "id": "c83ee856",
   "metadata": {
    "execution": {
     "iopub.execute_input": "2021-12-04T09:23:27.396949Z",
     "iopub.status.busy": "2021-12-04T09:23:27.396222Z",
     "iopub.status.idle": "2021-12-04T09:24:39.404429Z",
     "shell.execute_reply": "2021-12-04T09:24:39.403371Z",
     "shell.execute_reply.started": "2021-12-04T09:05:41.165998Z"
    },
    "papermill": {
     "duration": 72.029039,
     "end_time": "2021-12-04T09:24:39.404606",
     "exception": false,
     "start_time": "2021-12-04T09:23:27.375567",
     "status": "completed"
    },
    "tags": []
   },
   "outputs": [],
   "source": [
    "splitfolders.ratio(\n",
    "    \"../Data/CT-KIDNEY-DATASET-Normal-Cyst-Tumor-Stone/CT-KIDNEY-DATASET-Normal-Cyst-Tumor-Stone\",\n",
    "   output=\"./dataset\",\n",
    "   seed=7,\n",
    "   ratio=(0.90,0.050, 0.050)\n",
    ")"
   ]
  },
  {
   "cell_type": "code",
   "execution_count": 2,
   "id": "130819b3",
   "metadata": {
    "execution": {
     "iopub.execute_input": "2021-12-04T09:24:39.826207Z",
     "iopub.status.busy": "2021-12-04T09:24:39.825188Z",
     "iopub.status.idle": "2021-12-04T09:24:41.176044Z",
     "shell.execute_reply": "2021-12-04T09:24:41.174972Z",
     "shell.execute_reply.started": "2021-12-04T09:08:08.572202Z"
    },
    "papermill": {
     "duration": 1.566229,
     "end_time": "2021-12-04T09:24:41.176215",
     "exception": false,
     "start_time": "2021-12-04T09:24:39.609986",
     "status": "completed"
    },
    "tags": []
   },
   "outputs": [
    {
     "name": "stdout",
     "output_type": "stream",
     "text": [
      "Found 11200 images belonging to 4 classes.\n",
      "Found 626 images belonging to 4 classes.\n",
      "Found 620 images belonging to 4 classes.\n"
     ]
    }
   ],
   "source": [
    "train_datagen = ImageDataGenerator(rescale=1/255)\n",
    "valid_datagen = ImageDataGenerator(rescale=1/255)\n",
    "test_datagen = ImageDataGenerator(rescale=1/255)\n",
    "\n",
    "train_dataset = train_datagen.flow_from_directory('./dataset/train',\n",
    "                                                  target_size=(200, 200),\n",
    "                                                  color_mode='grayscale', \n",
    "                                                  class_mode='categorical', \n",
    "                                                  batch_size=100,\n",
    "                                                  )\n",
    "\n",
    "test_dataset = test_datagen.flow_from_directory('./dataset/test',\n",
    "                                                target_size=(200, 200),\n",
    "                                                class_mode='categorical',\n",
    "                                                color_mode='grayscale',\n",
    "                                                batch_size=100,\n",
    "                                                shuffle=False\n",
    "                                                )\n",
    "\n",
    "valid_dataset = valid_datagen.flow_from_directory('./dataset/val',\n",
    "                                                  target_size=(200, 200),\n",
    "                                                  class_mode='categorical',\n",
    "                                                  batch_size=100,\n",
    "                                                  color_mode='grayscale',\n",
    "                                                  )\n"
   ]
  },
  {
   "cell_type": "code",
   "execution_count": 3,
   "id": "76fd2210",
   "metadata": {
    "execution": {
     "iopub.execute_input": "2021-12-04T09:24:41.605703Z",
     "iopub.status.busy": "2021-12-04T09:24:41.604926Z",
     "iopub.status.idle": "2021-12-04T09:24:44.464280Z",
     "shell.execute_reply": "2021-12-04T09:24:44.465003Z",
     "shell.execute_reply.started": "2021-12-04T09:08:26.950077Z"
    },
    "papermill": {
     "duration": 3.080423,
     "end_time": "2021-12-04T09:24:44.465175",
     "exception": false,
     "start_time": "2021-12-04T09:24:41.384752",
     "status": "completed"
    },
    "tags": []
   },
   "outputs": [
    {
     "name": "stdout",
     "output_type": "stream",
     "text": [
      "Model: \"sequential\"\n",
      "_________________________________________________________________\n",
      " Layer (type)                Output Shape              Param #   \n",
      "=================================================================\n",
      " conv2d (Conv2D)             (None, 198, 198, 32)      320       \n",
      "                                                                 \n",
      " max_pooling2d (MaxPooling2D  (None, 99, 99, 32)       0         \n",
      " )                                                               \n",
      "                                                                 \n",
      " conv2d_1 (Conv2D)           (None, 97, 97, 32)        9248      \n",
      "                                                                 \n",
      " max_pooling2d_1 (MaxPooling  (None, 48, 48, 32)       0         \n",
      " 2D)                                                             \n",
      "                                                                 \n",
      " conv2d_2 (Conv2D)           (None, 46, 46, 64)        18496     \n",
      "                                                                 \n",
      " max_pooling2d_2 (MaxPooling  (None, 23, 23, 64)       0         \n",
      " 2D)                                                             \n",
      "                                                                 \n",
      " conv2d_3 (Conv2D)           (None, 21, 21, 64)        36928     \n",
      "                                                                 \n",
      " max_pooling2d_3 (MaxPooling  (None, 10, 10, 64)       0         \n",
      " 2D)                                                             \n",
      "                                                                 \n",
      " conv2d_4 (Conv2D)           (None, 8, 8, 128)         73856     \n",
      "                                                                 \n",
      " max_pooling2d_4 (MaxPooling  (None, 4, 4, 128)        0         \n",
      " 2D)                                                             \n",
      "                                                                 \n",
      " conv2d_5 (Conv2D)           (None, 2, 2, 128)         147584    \n",
      "                                                                 \n",
      " max_pooling2d_5 (MaxPooling  (None, 1, 1, 128)        0         \n",
      " 2D)                                                             \n",
      "                                                                 \n",
      " flatten (Flatten)           (None, 128)               0         \n",
      "                                                                 \n",
      " dense (Dense)               (None, 512)               66048     \n",
      "                                                                 \n",
      " dense_1 (Dense)             (None, 4)                 2052      \n",
      "                                                                 \n",
      "=================================================================\n",
      "Total params: 354,532\n",
      "Trainable params: 354,532\n",
      "Non-trainable params: 0\n",
      "_________________________________________________________________\n"
     ]
    }
   ],
   "source": [
    "model = Sequential()\n",
    "\n",
    "model.add(Conv2D(32, (3,3), activation='relu', input_shape=train_dataset.image_shape))\n",
    "model.add(MaxPool2D(2))\n",
    "\n",
    "model.add(Conv2D(32, (3,3), activation='relu'))\n",
    "model.add(MaxPool2D(2))\n",
    "\n",
    "\n",
    "model.add(Conv2D(64, (3,3), activation='relu'))\n",
    "model.add(MaxPool2D(2))\n",
    "\n",
    "model.add(Conv2D(64, (3,3), activation='relu'))\n",
    "model.add(MaxPool2D(2))\n",
    "\n",
    "\n",
    "model.add(Conv2D(128, (3,3), activation='relu'))\n",
    "model.add(MaxPool2D(2))\n",
    "\n",
    "model.add(Conv2D(128, (3,3), activation='relu'))\n",
    "model.add(MaxPool2D(2))\n",
    "\n",
    "\n",
    "model.add(Flatten())\n",
    "\n",
    "model.add(Dense(512, activation='relu'))\n",
    "\n",
    "\n",
    "model.add(Dense(4, activation='softmax'))\n",
    "\n",
    "model.summary()"
   ]
  },
  {
   "cell_type": "code",
   "execution_count": 4,
   "id": "52a8f51e",
   "metadata": {
    "execution": {
     "iopub.execute_input": "2021-12-04T09:24:44.873277Z",
     "iopub.status.busy": "2021-12-04T09:24:44.872237Z",
     "iopub.status.idle": "2021-12-04T09:24:44.889900Z",
     "shell.execute_reply": "2021-12-04T09:24:44.888856Z",
     "shell.execute_reply.started": "2021-12-04T09:08:53.269848Z"
    },
    "papermill": {
     "duration": 0.224595,
     "end_time": "2021-12-04T09:24:44.890016",
     "exception": false,
     "start_time": "2021-12-04T09:24:44.665421",
     "status": "completed"
    },
    "tags": []
   },
   "outputs": [],
   "source": [
    "import keras\n",
    "METRICS = [\n",
    "        'accuracy',\n",
    "        keras.metrics.Precision(name='precision'),\n",
    "        keras.metrics.Recall(name='recall')\n",
    "    ]\n",
    "    \n",
    "model.compile(optimizer='rmsprop', loss='categorical_crossentropy', metrics=METRICS)"
   ]
  },
  {
   "cell_type": "code",
   "execution_count": 5,
   "id": "ac7a10c2",
   "metadata": {
    "execution": {
     "iopub.execute_input": "2021-12-04T09:24:45.293039Z",
     "iopub.status.busy": "2021-12-04T09:24:45.291930Z",
     "iopub.status.idle": "2021-12-04T09:33:57.768673Z",
     "shell.execute_reply": "2021-12-04T09:33:57.770267Z",
     "shell.execute_reply.started": "2021-12-04T09:09:02.441094Z"
    },
    "papermill": {
     "duration": 552.684713,
     "end_time": "2021-12-04T09:33:57.770883",
     "exception": false,
     "start_time": "2021-12-04T09:24:45.086170",
     "status": "completed"
    },
    "tags": []
   },
   "outputs": [
    {
     "name": "stdout",
     "output_type": "stream",
     "text": [
      "Epoch 1/5\n",
      "112/112 [==============================] - 190s 2s/step - loss: 1.1235 - accuracy: 0.5763 - precision: 0.6653 - recall: 0.3862 - val_loss: 0.7679 - val_accuracy: 0.7048 - val_precision: 0.7676 - val_recall: 0.6500\n",
      "Epoch 2/5\n",
      "112/112 [==============================] - 221s 2s/step - loss: 0.6404 - accuracy: 0.7551 - precision: 0.7948 - recall: 0.7010 - val_loss: 0.3511 - val_accuracy: 0.8806 - val_precision: 0.8900 - val_recall: 0.8742\n",
      "Epoch 3/5\n",
      "112/112 [==============================] - 218s 2s/step - loss: 0.2459 - accuracy: 0.9233 - precision: 0.9300 - recall: 0.9140 - val_loss: 0.0271 - val_accuracy: 0.9984 - val_precision: 0.9984 - val_recall: 0.9984\n",
      "Epoch 4/5\n",
      "112/112 [==============================] - 191s 2s/step - loss: 0.1099 - accuracy: 0.9679 - precision: 0.9693 - recall: 0.9661 - val_loss: 0.0179 - val_accuracy: 0.9919 - val_precision: 0.9919 - val_recall: 0.9919\n",
      "Epoch 5/5\n",
      "112/112 [==============================] - 188s 2s/step - loss: 0.0652 - accuracy: 0.9861 - precision: 0.9862 - recall: 0.9858 - val_loss: 0.0375 - val_accuracy: 0.9806 - val_precision: 0.9806 - val_recall: 0.9806\n"
     ]
    }
   ],
   "source": [
    "Info = model.fit(\n",
    "                 train_dataset,\n",
    "                 validation_data=valid_dataset,\n",
    "                 epochs=5,\n",
    "                 )"
   ]
  },
  {
   "cell_type": "code",
   "execution_count": 6,
   "id": "91be550f",
   "metadata": {
    "execution": {
     "iopub.execute_input": "2021-12-04T09:33:58.860412Z",
     "iopub.status.busy": "2021-12-04T09:33:58.859605Z",
     "iopub.status.idle": "2021-12-04T09:33:59.641887Z",
     "shell.execute_reply": "2021-12-04T09:33:59.642469Z",
     "shell.execute_reply.started": "2021-12-04T09:16:22.902149Z"
    },
    "papermill": {
     "duration": 1.178087,
     "end_time": "2021-12-04T09:33:59.642679",
     "exception": false,
     "start_time": "2021-12-04T09:33:58.464592",
     "status": "completed"
    },
    "tags": []
   },
   "outputs": [
    {
     "data": {
      "image/png": "[encoded data removed]",
      "text/plain": [
       "<Figure size 1440x216 with 4 Axes>"
      ]
     },
     "metadata": {
      "needs_background": "light"
     },
     "output_type": "display_data"
    }
   ],
   "source": [
    "fig, ax = plt.subplots(1, 4, figsize=(20, 3))\n",
    "ax = ax.ravel()\n",
    "\n",
    "for i, met in enumerate(['precision', 'recall', 'accuracy', 'loss']):\n",
    "    ax[i].plot(Info.history[met])\n",
    "    ax[i].plot(Info.history['val_' + met])\n",
    "    ax[i].set_title('Model {}'.format(met))\n",
    "    ax[i].set_xlabel('epochs')\n",
    "    ax[i].set_ylabel(met)\n",
    "    ax[i].legend(['train', 'val'])"
   ]
  },
  {
   "cell_type": "code",
   "execution_count": 7,
   "id": "bec4a41b",
   "metadata": {
    "execution": {
     "iopub.execute_input": "2021-12-04T09:34:00.446652Z",
     "iopub.status.busy": "2021-12-04T09:34:00.445493Z",
     "iopub.status.idle": "2021-12-04T09:34:05.431121Z",
     "shell.execute_reply": "2021-12-04T09:34:05.430356Z",
     "shell.execute_reply.started": "2021-12-04T09:16:44.802774Z"
    },
    "papermill": {
     "duration": 5.398901,
     "end_time": "2021-12-04T09:34:05.431306",
     "exception": false,
     "start_time": "2021-12-04T09:34:00.032405",
     "status": "completed"
    },
    "tags": []
   },
   "outputs": [],
   "source": [
    "predictions = model.predict(test_dataset)"
   ]
  },
  {
   "cell_type": "code",
   "execution_count": 8,
   "id": "e698f161",
   "metadata": {
    "execution": {
     "iopub.execute_input": "2021-12-04T09:34:06.196739Z",
     "iopub.status.busy": "2021-12-04T09:34:06.195582Z",
     "iopub.status.idle": "2021-12-04T09:34:06.198086Z",
     "shell.execute_reply": "2021-12-04T09:34:06.198593Z",
     "shell.execute_reply.started": "2021-12-04T09:16:56.163672Z"
    },
    "papermill": {
     "duration": 0.391404,
     "end_time": "2021-12-04T09:34:06.198764",
     "exception": false,
     "start_time": "2021-12-04T09:34:05.807360",
     "status": "completed"
    },
    "tags": []
   },
   "outputs": [],
   "source": [
    "diseases_labels = []\n",
    "\n",
    "for key, value in train_dataset.class_indices.items():\n",
    "   diseases_labels.append(key)"
   ]
  },
  {
   "cell_type": "code",
   "execution_count": 9,
   "id": "eae454be",
   "metadata": {
    "execution": {
     "iopub.execute_input": "2021-12-04T09:34:06.988154Z",
     "iopub.status.busy": "2021-12-04T09:34:06.987166Z",
     "iopub.status.idle": "2021-12-04T09:34:06.995684Z",
     "shell.execute_reply": "2021-12-04T09:34:06.995149Z",
     "shell.execute_reply.started": "2021-12-04T09:17:10.7875Z"
    },
    "papermill": {
     "duration": 0.409278,
     "end_time": "2021-12-04T09:34:06.995875",
     "exception": false,
     "start_time": "2021-12-04T09:34:06.586597",
     "status": "completed"
    },
    "tags": []
   },
   "outputs": [],
   "source": [
    "def evaluate(actual, predictions):\n",
    "  pre = []\n",
    "  for i in predictions:\n",
    "    pre.append(np.argmax(i))\n",
    "\n",
    "  accuracy = (pre == actual).sum() / actual.shape[0]\n",
    "  print(f'Accuracy: {accuracy}')\n",
    "\n",
    "  precision, recall, f1_score, _ = precision_recall_fscore_support(actual, pre, average='macro')\n",
    "  print(f'Precision: {precision}')\n",
    "  print(f'Recall: {recall}')\n",
    "  print(f'F1_score: {f1_score}')\n",
    "\n",
    "  fig, ax = plt.subplots(figsize=(20,20))\n",
    "  conf_mat = confusion_matrix(actual, pre)\n",
    "  sns.heatmap(conf_mat, annot=True, fmt='.0f', cmap=\"YlGnBu\", xticklabels=diseases_labels, yticklabels=diseases_labels).set_title('Confusion Matrix Heat map')\n",
    "  plt.show()"
   ]
  },
  {
   "cell_type": "code",
   "execution_count": 10,
   "id": "f48cd8c4",
   "metadata": {
    "execution": {
     "iopub.execute_input": "2021-12-04T09:34:07.781844Z",
     "iopub.status.busy": "2021-12-04T09:34:07.778067Z",
     "iopub.status.idle": "2021-12-04T09:34:08.148256Z",
     "shell.execute_reply": "2021-12-04T09:34:08.148809Z",
     "shell.execute_reply.started": "2021-12-04T09:17:20.099963Z"
    },
    "papermill": {
     "duration": 0.770555,
     "end_time": "2021-12-04T09:34:08.148994",
     "exception": false,
     "start_time": "2021-12-04T09:34:07.378439",
     "status": "completed"
    },
    "tags": []
   },
   "outputs": [
    {
     "name": "stdout",
     "output_type": "stream",
     "text": [
      "Accuracy: 0.9840255591054313\n",
      "Precision: 0.9821265808362767\n",
      "Recall: 0.9723652574634342\n",
      "F1_score: 0.9770675059944136\n"
     ]
    },
    {
     "data": {
      "image/png": "[encoded data removed]",
      "text/plain": [
       "<Figure size 1440x1440 with 2 Axes>"
      ]
     },
     "metadata": {
      "needs_background": "light"
     },
     "output_type": "display_data"
    }
   ],
   "source": [
    "evaluate(test_dataset.classes,predictions)"
   ]
  },
  {
   "cell_type": "code",
   "execution_count": 12,
   "id": "fab2bf14",
   "metadata": {
    "execution": {
     "iopub.execute_input": "2021-12-04T09:34:09.110815Z",
     "iopub.status.busy": "2021-12-04T09:34:09.109554Z",
     "iopub.status.idle": "2021-12-04T09:34:14.083569Z",
     "shell.execute_reply": "2021-12-04T09:34:14.083040Z",
     "shell.execute_reply.started": "2021-12-04T09:17:43.378259Z"
    },
    "papermill": {
     "duration": 5.540728,
     "end_time": "2021-12-04T09:34:14.083808",
     "exception": false,
     "start_time": "2021-12-04T09:34:08.543080",
     "status": "completed"
    },
    "tags": []
   },
   "outputs": [
    {
     "name": "stdout",
     "output_type": "stream",
     "text": [
      "7/7 [==============================] - 4s 487ms/step - loss: 0.0404 - accuracy: 0.9840 - precision: 0.9840 - recall: 0.9840\n"
     ]
    },
    {
     "data": {
      "text/plain": [
       "[0.040441859513521194,\n",
       " 0.9840255379676819,\n",
       " 0.9840255379676819,\n",
       " 0.9840255379676819]"
      ]
     },
     "execution_count": 12,
     "metadata": {},
     "output_type": "execute_result"
    }
   ],
   "source": [
    "model.evaluate(test_dataset)"
   ]
  },
  {
   "cell_type": "code",
   "execution_count": 13,
   "id": "992de6dc",
   "metadata": {},
   "outputs": [],
   "source": [
    "model.save('cnn_model_kidney_diseases.h5')"
   ]
  },
  {
   "cell_type": "code",
   "execution_count": null,
   "id": "5dd6a71b",
   "metadata": {},
   "outputs": [],
   "source": []
  }
 ],
 "metadata": {
  "kernelspec": {
   "display_name": "Python 3",
   "language": "python",
   "name": "python3"
  },
  "language_info": {
   "codemirror_mode": {
    "name": "ipython",
    "version": 3
   },
   "file_extension": ".py",
   "mimetype": "text/x-python",
   "name": "python",
   "nbconvert_exporter": "python",
   "pygments_lexer": "ipython3",
   "version": "3.9.2"
  },
  "papermill": {
   "default_parameters": {},
   "duration": 678.068709,
   "end_time": "2021-12-04T09:34:17.196418",
   "environment_variables": {},
   "exception": null,
   "input_path": "__notebook__.ipynb",
   "output_path": "__notebook__.ipynb",
   "parameters": {},
   "start_time": "2021-12-04T09:22:59.127709",
   "version": "2.3.3"
  }
 },
 "nbformat": 4,
 "nbformat_minor": 5
}
